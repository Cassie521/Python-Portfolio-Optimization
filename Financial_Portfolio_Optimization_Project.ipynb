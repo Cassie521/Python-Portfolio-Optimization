{
  "cells": [
    {
      "cell_type": "markdown",
      "source": [
        "# Portfolio Optimization Project "
      ],
      "metadata": {
        "id": "Yb3-aw7g4iEf"
      },
      "id": "Yb3-aw7g4iEf"
    },
    {
      "cell_type": "markdown",
      "source": [
        "Given a data set of monthly closing prices for 25 assets from Jan 1st, 2018 to Dec 1st 2020 (in-sample) and closing prices for the same assets in 2021 (out-of-sample), this project applies the optimization techniques to explore and optimize the financial portfolio performance. \n",
        "\n",
        "Among this project, besides the mathematics-oriented optimization techniques applied, I draw the Markowitz classifical efficient frontier and the resampled efficient frontier, and do the comparison between these frontiers to derive more insights about the portfolio investment."
      ],
      "metadata": {
        "id": "d9-bPJBC4njC"
      },
      "id": "d9-bPJBC4njC"
    },
    {
      "cell_type": "code",
      "execution_count": null,
      "id": "b85ad7ea",
      "metadata": {
        "colab": {
          "base_uri": "https://localhost:8080/"
        },
        "id": "b85ad7ea",
        "outputId": "e5e5e24c-1309-40c9-a91c-0f79c27747c7"
      },
      "outputs": [
        {
          "output_type": "stream",
          "name": "stdout",
          "text": [
            "Requirement already satisfied: cvxpy in /usr/local/lib/python3.7/dist-packages (1.0.31)\n",
            "Requirement already satisfied: numpy>=1.15 in /usr/local/lib/python3.7/dist-packages (from cvxpy) (1.21.5)\n",
            "Requirement already satisfied: ecos>=2 in /usr/local/lib/python3.7/dist-packages (from cvxpy) (2.0.10)\n",
            "Requirement already satisfied: multiprocess in /usr/local/lib/python3.7/dist-packages (from cvxpy) (0.70.12.2)\n",
            "Requirement already satisfied: osqp>=0.4.1 in /usr/local/lib/python3.7/dist-packages (from cvxpy) (0.6.2.post0)\n",
            "Requirement already satisfied: scipy>=1.1.0 in /usr/local/lib/python3.7/dist-packages (from cvxpy) (1.4.1)\n",
            "Requirement already satisfied: scs>=1.1.3 in /usr/local/lib/python3.7/dist-packages (from cvxpy) (3.2.0)\n",
            "Requirement already satisfied: qdldl in /usr/local/lib/python3.7/dist-packages (from osqp>=0.4.1->cvxpy) (0.1.5.post0)\n",
            "Requirement already satisfied: dill>=0.3.4 in /usr/local/lib/python3.7/dist-packages (from multiprocess->cvxpy) (0.3.4)\n",
            "Requirement already satisfied: cvxopt in /usr/local/lib/python3.7/dist-packages (1.2.7)\n"
          ]
        }
      ],
      "source": [
        "# Install package cvxpy \n",
        "! pip install cvxpy\n",
        "! pip install cvxopt\n"
      ]
    },
    {
      "cell_type": "code",
      "execution_count": null,
      "id": "99703a83",
      "metadata": {
        "id": "99703a83"
      },
      "outputs": [],
      "source": [
        "# import libraries \n",
        "import pandas as pd \n",
        "import numpy as np\n",
        "import scipy \n",
        "import matplotlib.pyplot as plt \n",
        "import seaborn as sns \n",
        "import cvxpy as cp \n",
        "from sklearn.utils import resample\n"
      ]
    },
    {
      "cell_type": "code",
      "execution_count": null,
      "id": "7eb0f39f",
      "metadata": {
        "colab": {
          "resources": {
            "http://localhost:8080/nbextensions/google.colab/files.js": {
              "data": "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",
              "ok": true,
              "headers": [
                [
                  "content-type",
                  "application/javascript"
                ]
              ],
              "status": 200,
              "status_text": ""
            }
          },
          "base_uri": "https://localhost:8080/",
          "height": 73
        },
        "id": "7eb0f39f",
        "outputId": "ffbff78f-8de6-4734-d39b-7d4404f6d796"
      },
      "outputs": [
        {
          "output_type": "display_data",
          "data": {
            "text/plain": [
              "<IPython.core.display.HTML object>"
            ],
            "text/html": [
              "\n",
              "     <input type=\"file\" id=\"files-bdb58bd8-bf73-45ac-b3cd-a7bc6963d127\" name=\"files[]\" multiple disabled\n",
              "        style=\"border:none\" />\n",
              "     <output id=\"result-bdb58bd8-bf73-45ac-b3cd-a7bc6963d127\">\n",
              "      Upload widget is only available when the cell has been executed in the\n",
              "      current browser session. Please rerun this cell to enable.\n",
              "      </output>\n",
              "      <script src=\"/nbextensions/google.colab/files.js\"></script> "
            ]
          },
          "metadata": {}
        },
        {
          "output_type": "stream",
          "name": "stdout",
          "text": [
            "Saving monthly_closings_2018_to_2020.csv to monthly_closings_2018_to_2020 (5).csv\n"
          ]
        }
      ],
      "source": [
        "from google.colab import files \n",
        "uploaded = files.upload()\n",
        "\n",
        "#Read insample data into python \n",
        "df1 = insample = pd.read_csv ('monthly_closings_2018_to_2020.csv')\n"
      ]
    },
    {
      "cell_type": "code",
      "execution_count": null,
      "id": "aae9e240",
      "metadata": {
        "id": "aae9e240"
      },
      "outputs": [],
      "source": [
        "#remove the date \n",
        "price = insample.iloc[:, 1:]\n"
      ]
    },
    {
      "cell_type": "code",
      "execution_count": null,
      "id": "aceaa178",
      "metadata": {
        "colab": {
          "resources": {
            "http://localhost:8080/nbextensions/google.colab/files.js": {
              "data": "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",
              "ok": true,
              "headers": [
                [
                  "content-type",
                  "application/javascript"
                ]
              ],
              "status": 200,
              "status_text": ""
            }
          },
          "base_uri": "https://localhost:8080/",
          "height": 73
        },
        "id": "aceaa178",
        "outputId": "7c2148c7-4c80-4f87-e886-dfd1f6e79a5a"
      },
      "outputs": [
        {
          "output_type": "display_data",
          "data": {
            "text/plain": [
              "<IPython.core.display.HTML object>"
            ],
            "text/html": [
              "\n",
              "     <input type=\"file\" id=\"files-44ba0d78-52c6-42ea-80ba-2845151abb11\" name=\"files[]\" multiple disabled\n",
              "        style=\"border:none\" />\n",
              "     <output id=\"result-44ba0d78-52c6-42ea-80ba-2845151abb11\">\n",
              "      Upload widget is only available when the cell has been executed in the\n",
              "      current browser session. Please rerun this cell to enable.\n",
              "      </output>\n",
              "      <script src=\"/nbextensions/google.colab/files.js\"></script> "
            ]
          },
          "metadata": {}
        },
        {
          "output_type": "stream",
          "name": "stdout",
          "text": [
            "Saving monthly_closings_2021.csv to monthly_closings_2021 (5).csv\n"
          ]
        }
      ],
      "source": [
        "from google.colab import files \n",
        "uploaded = files.upload()\n",
        "\n",
        "#Read out of sample data into python \n",
        "df2 = outofsample = pd.read_csv ('monthly_closings_2021.csv')\n"
      ]
    },
    {
      "cell_type": "markdown",
      "id": "a4883615",
      "metadata": {
        "id": "a4883615"
      },
      "source": [
        "## Section 1: From the in-sample data, compute the classical Markowitz and resampled Markowitz frontiers."
      ]
    },
    {
      "cell_type": "markdown",
      "id": "1bd08664",
      "metadata": {
        "id": "1bd08664"
      },
      "source": [
        "### 1.a Compute the matrix of monthly returns "
      ]
    },
    {
      "cell_type": "code",
      "execution_count": null,
      "id": "fd488741",
      "metadata": {
        "colab": {
          "base_uri": "https://localhost:8080/",
          "height": 299
        },
        "id": "fd488741",
        "outputId": "a3b53728-fbc9-455e-8117-2d4534ae9a96"
      },
      "outputs": [
        {
          "output_type": "execute_result",
          "data": {
            "text/plain": [
              "        AMD       OXY       XLF      BABA         F       BAC       CCL  \\\n",
              "0 -0.118632 -0.124983 -0.029253 -0.088844 -0.021902  0.003125 -0.065633   \n",
              "1 -0.170107 -0.009756 -0.045030 -0.013968  0.044298 -0.065732 -0.013497   \n",
              "2  0.082587  0.203563 -0.000728 -0.027242  0.014440  0.001409 -0.038426   \n",
              "3  0.261949  0.089827 -0.009836  0.109051  0.041367 -0.029412 -0.012369   \n",
              "4  0.091770 -0.006176 -0.021707 -0.063027 -0.041558 -0.025304 -0.072632   \n",
              "\n",
              "        AMC       DAL        FB  ...       UNH       MMM       AAL      MULN  \\\n",
              "0  0.171875 -0.050555 -0.045856  ... -0.044852 -0.059840 -0.001289 -0.203552   \n",
              "1 -0.063333  0.022751 -0.103914  ... -0.053767 -0.062399 -0.040370  0.193825   \n",
              "2  0.258175 -0.047254  0.076413  ...  0.108330 -0.114477 -0.173788  0.139368   \n",
              "3 -0.151862  0.035044  0.115000  ...  0.021616  0.014610  0.014209 -0.153846   \n",
              "4  0.074324 -0.077993  0.013244  ...  0.015858  0.004236 -0.126119  0.095380   \n",
              "\n",
              "        QQQ      AAPL       XLE       FXI       JPM         V  \n",
              "0 -0.012928  0.063848 -0.108350 -0.103474  0.003732 -0.010384  \n",
              "1 -0.042342 -0.054210  0.010039  0.000424 -0.047879 -0.025311  \n",
              "2  0.006689 -0.015020  0.102737 -0.006562 -0.010821  0.060692  \n",
              "3  0.056729  0.130763  0.029942 -0.004901 -0.011283  0.030265  \n",
              "4  0.009290 -0.005599 -0.001052 -0.079871 -0.026259  0.014863  \n",
              "\n",
              "[5 rows x 25 columns]"
            ],
            "text/html": [
              "\n",
              "  <div id=\"df-7e1b894c-f025-43c3-8d98-06a97180b1f6\">\n",
              "    <div class=\"colab-df-container\">\n",
              "      <div>\n",
              "<style scoped>\n",
              "    .dataframe tbody tr th:only-of-type {\n",
              "        vertical-align: middle;\n",
              "    }\n",
              "\n",
              "    .dataframe tbody tr th {\n",
              "        vertical-align: top;\n",
              "    }\n",
              "\n",
              "    .dataframe thead th {\n",
              "        text-align: right;\n",
              "    }\n",
              "</style>\n",
              "<table border=\"1\" class=\"dataframe\">\n",
              "  <thead>\n",
              "    <tr style=\"text-align: right;\">\n",
              "      <th></th>\n",
              "      <th>AMD</th>\n",
              "      <th>OXY</th>\n",
              "      <th>XLF</th>\n",
              "      <th>BABA</th>\n",
              "      <th>F</th>\n",
              "      <th>BAC</th>\n",
              "      <th>CCL</th>\n",
              "      <th>AMC</th>\n",
              "      <th>DAL</th>\n",
              "      <th>FB</th>\n",
              "      <th>...</th>\n",
              "      <th>UNH</th>\n",
              "      <th>MMM</th>\n",
              "      <th>AAL</th>\n",
              "      <th>MULN</th>\n",
              "      <th>QQQ</th>\n",
              "      <th>AAPL</th>\n",
              "      <th>XLE</th>\n",
              "      <th>FXI</th>\n",
              "      <th>JPM</th>\n",
              "      <th>V</th>\n",
              "    </tr>\n",
              "  </thead>\n",
              "  <tbody>\n",
              "    <tr>\n",
              "      <th>0</th>\n",
              "      <td>-0.118632</td>\n",
              "      <td>-0.124983</td>\n",
              "      <td>-0.029253</td>\n",
              "      <td>-0.088844</td>\n",
              "      <td>-0.021902</td>\n",
              "      <td>0.003125</td>\n",
              "      <td>-0.065633</td>\n",
              "      <td>0.171875</td>\n",
              "      <td>-0.050555</td>\n",
              "      <td>-0.045856</td>\n",
              "      <td>...</td>\n",
              "      <td>-0.044852</td>\n",
              "      <td>-0.059840</td>\n",
              "      <td>-0.001289</td>\n",
              "      <td>-0.203552</td>\n",
              "      <td>-0.012928</td>\n",
              "      <td>0.063848</td>\n",
              "      <td>-0.108350</td>\n",
              "      <td>-0.103474</td>\n",
              "      <td>0.003732</td>\n",
              "      <td>-0.010384</td>\n",
              "    </tr>\n",
              "    <tr>\n",
              "      <th>1</th>\n",
              "      <td>-0.170107</td>\n",
              "      <td>-0.009756</td>\n",
              "      <td>-0.045030</td>\n",
              "      <td>-0.013968</td>\n",
              "      <td>0.044298</td>\n",
              "      <td>-0.065732</td>\n",
              "      <td>-0.013497</td>\n",
              "      <td>-0.063333</td>\n",
              "      <td>0.022751</td>\n",
              "      <td>-0.103914</td>\n",
              "      <td>...</td>\n",
              "      <td>-0.053767</td>\n",
              "      <td>-0.062399</td>\n",
              "      <td>-0.040370</td>\n",
              "      <td>0.193825</td>\n",
              "      <td>-0.042342</td>\n",
              "      <td>-0.054210</td>\n",
              "      <td>0.010039</td>\n",
              "      <td>0.000424</td>\n",
              "      <td>-0.047879</td>\n",
              "      <td>-0.025311</td>\n",
              "    </tr>\n",
              "    <tr>\n",
              "      <th>2</th>\n",
              "      <td>0.082587</td>\n",
              "      <td>0.203563</td>\n",
              "      <td>-0.000728</td>\n",
              "      <td>-0.027242</td>\n",
              "      <td>0.014440</td>\n",
              "      <td>0.001409</td>\n",
              "      <td>-0.038426</td>\n",
              "      <td>0.258175</td>\n",
              "      <td>-0.047254</td>\n",
              "      <td>0.076413</td>\n",
              "      <td>...</td>\n",
              "      <td>0.108330</td>\n",
              "      <td>-0.114477</td>\n",
              "      <td>-0.173788</td>\n",
              "      <td>0.139368</td>\n",
              "      <td>0.006689</td>\n",
              "      <td>-0.015020</td>\n",
              "      <td>0.102737</td>\n",
              "      <td>-0.006562</td>\n",
              "      <td>-0.010821</td>\n",
              "      <td>0.060692</td>\n",
              "    </tr>\n",
              "    <tr>\n",
              "      <th>3</th>\n",
              "      <td>0.261949</td>\n",
              "      <td>0.089827</td>\n",
              "      <td>-0.009836</td>\n",
              "      <td>0.109051</td>\n",
              "      <td>0.041367</td>\n",
              "      <td>-0.029412</td>\n",
              "      <td>-0.012369</td>\n",
              "      <td>-0.151862</td>\n",
              "      <td>0.035044</td>\n",
              "      <td>0.115000</td>\n",
              "      <td>...</td>\n",
              "      <td>0.021616</td>\n",
              "      <td>0.014610</td>\n",
              "      <td>0.014209</td>\n",
              "      <td>-0.153846</td>\n",
              "      <td>0.056729</td>\n",
              "      <td>0.130763</td>\n",
              "      <td>0.029942</td>\n",
              "      <td>-0.004901</td>\n",
              "      <td>-0.011283</td>\n",
              "      <td>0.030265</td>\n",
              "    </tr>\n",
              "    <tr>\n",
              "      <th>4</th>\n",
              "      <td>0.091770</td>\n",
              "      <td>-0.006176</td>\n",
              "      <td>-0.021707</td>\n",
              "      <td>-0.063027</td>\n",
              "      <td>-0.041558</td>\n",
              "      <td>-0.025304</td>\n",
              "      <td>-0.072632</td>\n",
              "      <td>0.074324</td>\n",
              "      <td>-0.077993</td>\n",
              "      <td>0.013244</td>\n",
              "      <td>...</td>\n",
              "      <td>0.015858</td>\n",
              "      <td>0.004236</td>\n",
              "      <td>-0.126119</td>\n",
              "      <td>0.095380</td>\n",
              "      <td>0.009290</td>\n",
              "      <td>-0.005599</td>\n",
              "      <td>-0.001052</td>\n",
              "      <td>-0.079871</td>\n",
              "      <td>-0.026259</td>\n",
              "      <td>0.014863</td>\n",
              "    </tr>\n",
              "  </tbody>\n",
              "</table>\n",
              "<p>5 rows × 25 columns</p>\n",
              "</div>\n",
              "      <button class=\"colab-df-convert\" onclick=\"convertToInteractive('df-7e1b894c-f025-43c3-8d98-06a97180b1f6')\"\n",
              "              title=\"Convert this dataframe to an interactive table.\"\n",
              "              style=\"display:none;\">\n",
              "        \n",
              "  <svg xmlns=\"http://www.w3.org/2000/svg\" height=\"24px\"viewBox=\"0 0 24 24\"\n",
              "       width=\"24px\">\n",
              "    <path d=\"M0 0h24v24H0V0z\" fill=\"none\"/>\n",
              "    <path d=\"M18.56 5.44l.94 2.06.94-2.06 2.06-.94-2.06-.94-.94-2.06-.94 2.06-2.06.94zm-11 1L8.5 8.5l.94-2.06 2.06-.94-2.06-.94L8.5 2.5l-.94 2.06-2.06.94zm10 10l.94 2.06.94-2.06 2.06-.94-2.06-.94-.94-2.06-.94 2.06-2.06.94z\"/><path d=\"M17.41 7.96l-1.37-1.37c-.4-.4-.92-.59-1.43-.59-.52 0-1.04.2-1.43.59L10.3 9.45l-7.72 7.72c-.78.78-.78 2.05 0 2.83L4 21.41c.39.39.9.59 1.41.59.51 0 1.02-.2 1.41-.59l7.78-7.78 2.81-2.81c.8-.78.8-2.07 0-2.86zM5.41 20L4 18.59l7.72-7.72 1.47 1.35L5.41 20z\"/>\n",
              "  </svg>\n",
              "      </button>\n",
              "      \n",
              "  <style>\n",
              "    .colab-df-container {\n",
              "      display:flex;\n",
              "      flex-wrap:wrap;\n",
              "      gap: 12px;\n",
              "    }\n",
              "\n",
              "    .colab-df-convert {\n",
              "      background-color: #E8F0FE;\n",
              "      border: none;\n",
              "      border-radius: 50%;\n",
              "      cursor: pointer;\n",
              "      display: none;\n",
              "      fill: #1967D2;\n",
              "      height: 32px;\n",
              "      padding: 0 0 0 0;\n",
              "      width: 32px;\n",
              "    }\n",
              "\n",
              "    .colab-df-convert:hover {\n",
              "      background-color: #E2EBFA;\n",
              "      box-shadow: 0px 1px 2px rgba(60, 64, 67, 0.3), 0px 1px 3px 1px rgba(60, 64, 67, 0.15);\n",
              "      fill: #174EA6;\n",
              "    }\n",
              "\n",
              "    [theme=dark] .colab-df-convert {\n",
              "      background-color: #3B4455;\n",
              "      fill: #D2E3FC;\n",
              "    }\n",
              "\n",
              "    [theme=dark] .colab-df-convert:hover {\n",
              "      background-color: #434B5C;\n",
              "      box-shadow: 0px 1px 3px 1px rgba(0, 0, 0, 0.15);\n",
              "      filter: drop-shadow(0px 1px 2px rgba(0, 0, 0, 0.3));\n",
              "      fill: #FFFFFF;\n",
              "    }\n",
              "  </style>\n",
              "\n",
              "      <script>\n",
              "        const buttonEl =\n",
              "          document.querySelector('#df-7e1b894c-f025-43c3-8d98-06a97180b1f6 button.colab-df-convert');\n",
              "        buttonEl.style.display =\n",
              "          google.colab.kernel.accessAllowed ? 'block' : 'none';\n",
              "\n",
              "        async function convertToInteractive(key) {\n",
              "          const element = document.querySelector('#df-7e1b894c-f025-43c3-8d98-06a97180b1f6');\n",
              "          const dataTable =\n",
              "            await google.colab.kernel.invokeFunction('convertToInteractive',\n",
              "                                                     [key], {});\n",
              "          if (!dataTable) return;\n",
              "\n",
              "          const docLinkHtml = 'Like what you see? Visit the ' +\n",
              "            '<a target=\"_blank\" href=https://colab.research.google.com/notebooks/data_table.ipynb>data table notebook</a>'\n",
              "            + ' to learn more about interactive tables.';\n",
              "          element.innerHTML = '';\n",
              "          dataTable['output_type'] = 'display_data';\n",
              "          await google.colab.output.renderOutput(dataTable, element);\n",
              "          const docLink = document.createElement('div');\n",
              "          docLink.innerHTML = docLinkHtml;\n",
              "          element.appendChild(docLink);\n",
              "        }\n",
              "      </script>\n",
              "    </div>\n",
              "  </div>\n",
              "  "
            ]
          },
          "metadata": {},
          "execution_count": 244
        }
      ],
      "source": [
        "# Compute the matrix of monthly returns as percent change of monthly closing values, reset indices \n",
        "monthly_return = price.pct_change().iloc[1:, :]\n",
        "monthly_return.reset_index(inplace = True, drop = True)\n",
        "\n",
        "# Display the matrix of monthly returns \n",
        "monthly_return.head()\n"
      ]
    },
    {
      "cell_type": "markdown",
      "id": "16a63048",
      "metadata": {
        "id": "16a63048"
      },
      "source": [
        "### 1.b Compute the covariance matrix and means of percent change matrix "
      ]
    },
    {
      "cell_type": "code",
      "execution_count": null,
      "id": "622c4319",
      "metadata": {
        "colab": {
          "base_uri": "https://localhost:8080/",
          "height": 299
        },
        "id": "622c4319",
        "outputId": "eb3c13b1-6c80-4e06-d827-67f55c2b2ad0"
      },
      "outputs": [
        {
          "output_type": "execute_result",
          "data": {
            "text/plain": [
              "           AMD       OXY       XLF      BABA         F       BAC       CCL  \\\n",
              "AMD   0.028843  0.010047  0.005629  0.008224  0.003936  0.007298  0.009855   \n",
              "OXY   0.010047  0.051093  0.010783  0.000525  0.011660  0.013617  0.028853   \n",
              "XLF   0.005629  0.010783  0.004977  0.002570  0.005571  0.006360  0.009939   \n",
              "BABA  0.008224  0.000525  0.002570  0.009454  0.003980  0.003723  0.002772   \n",
              "F     0.003936  0.011660  0.005571  0.003980  0.010637  0.006556  0.011245   \n",
              "\n",
              "           AMC       DAL        FB  ...       UNH       MMM       AAL  \\\n",
              "AMD   0.012855  0.005633  0.008891  ...  0.006390  0.005025  0.007885   \n",
              "OXY   0.033722  0.015708  0.008105  ...  0.006344  0.006841  0.019838   \n",
              "XLF   0.009833  0.006288  0.004390  ...  0.002530  0.002981  0.007499   \n",
              "BABA -0.000378  0.002931  0.005342  ...  0.001693  0.003450  0.004603   \n",
              "F     0.008501  0.007986  0.006139  ...  0.001890  0.002360  0.008268   \n",
              "\n",
              "          MULN       QQQ      AAPL       XLE       FXI       JPM         V  \n",
              "AMD   0.004682  0.006715  0.008149  0.007937  0.004949  0.005288  0.005519  \n",
              "OXY   0.067743  0.007919  0.007815  0.022681  0.005063  0.010833  0.008036  \n",
              "XLF   0.007233  0.003443  0.003999  0.007075  0.002379  0.005371  0.003235  \n",
              "BABA  0.006234  0.003009  0.003150  0.002754  0.003615  0.002055  0.001442  \n",
              "F     0.014932  0.003579  0.004042  0.008031  0.002958  0.005860  0.003011  \n",
              "\n",
              "[5 rows x 25 columns]"
            ],
            "text/html": [
              "\n",
              "  <div id=\"df-fefba7dc-db59-45c2-a82e-2ae4eb8e94b1\">\n",
              "    <div class=\"colab-df-container\">\n",
              "      <div>\n",
              "<style scoped>\n",
              "    .dataframe tbody tr th:only-of-type {\n",
              "        vertical-align: middle;\n",
              "    }\n",
              "\n",
              "    .dataframe tbody tr th {\n",
              "        vertical-align: top;\n",
              "    }\n",
              "\n",
              "    .dataframe thead th {\n",
              "        text-align: right;\n",
              "    }\n",
              "</style>\n",
              "<table border=\"1\" class=\"dataframe\">\n",
              "  <thead>\n",
              "    <tr style=\"text-align: right;\">\n",
              "      <th></th>\n",
              "      <th>AMD</th>\n",
              "      <th>OXY</th>\n",
              "      <th>XLF</th>\n",
              "      <th>BABA</th>\n",
              "      <th>F</th>\n",
              "      <th>BAC</th>\n",
              "      <th>CCL</th>\n",
              "      <th>AMC</th>\n",
              "      <th>DAL</th>\n",
              "      <th>FB</th>\n",
              "      <th>...</th>\n",
              "      <th>UNH</th>\n",
              "      <th>MMM</th>\n",
              "      <th>AAL</th>\n",
              "      <th>MULN</th>\n",
              "      <th>QQQ</th>\n",
              "      <th>AAPL</th>\n",
              "      <th>XLE</th>\n",
              "      <th>FXI</th>\n",
              "      <th>JPM</th>\n",
              "      <th>V</th>\n",
              "    </tr>\n",
              "  </thead>\n",
              "  <tbody>\n",
              "    <tr>\n",
              "      <th>AMD</th>\n",
              "      <td>0.028843</td>\n",
              "      <td>0.010047</td>\n",
              "      <td>0.005629</td>\n",
              "      <td>0.008224</td>\n",
              "      <td>0.003936</td>\n",
              "      <td>0.007298</td>\n",
              "      <td>0.009855</td>\n",
              "      <td>0.012855</td>\n",
              "      <td>0.005633</td>\n",
              "      <td>0.008891</td>\n",
              "      <td>...</td>\n",
              "      <td>0.006390</td>\n",
              "      <td>0.005025</td>\n",
              "      <td>0.007885</td>\n",
              "      <td>0.004682</td>\n",
              "      <td>0.006715</td>\n",
              "      <td>0.008149</td>\n",
              "      <td>0.007937</td>\n",
              "      <td>0.004949</td>\n",
              "      <td>0.005288</td>\n",
              "      <td>0.005519</td>\n",
              "    </tr>\n",
              "    <tr>\n",
              "      <th>OXY</th>\n",
              "      <td>0.010047</td>\n",
              "      <td>0.051093</td>\n",
              "      <td>0.010783</td>\n",
              "      <td>0.000525</td>\n",
              "      <td>0.011660</td>\n",
              "      <td>0.013617</td>\n",
              "      <td>0.028853</td>\n",
              "      <td>0.033722</td>\n",
              "      <td>0.015708</td>\n",
              "      <td>0.008105</td>\n",
              "      <td>...</td>\n",
              "      <td>0.006344</td>\n",
              "      <td>0.006841</td>\n",
              "      <td>0.019838</td>\n",
              "      <td>0.067743</td>\n",
              "      <td>0.007919</td>\n",
              "      <td>0.007815</td>\n",
              "      <td>0.022681</td>\n",
              "      <td>0.005063</td>\n",
              "      <td>0.010833</td>\n",
              "      <td>0.008036</td>\n",
              "    </tr>\n",
              "    <tr>\n",
              "      <th>XLF</th>\n",
              "      <td>0.005629</td>\n",
              "      <td>0.010783</td>\n",
              "      <td>0.004977</td>\n",
              "      <td>0.002570</td>\n",
              "      <td>0.005571</td>\n",
              "      <td>0.006360</td>\n",
              "      <td>0.009939</td>\n",
              "      <td>0.009833</td>\n",
              "      <td>0.006288</td>\n",
              "      <td>0.004390</td>\n",
              "      <td>...</td>\n",
              "      <td>0.002530</td>\n",
              "      <td>0.002981</td>\n",
              "      <td>0.007499</td>\n",
              "      <td>0.007233</td>\n",
              "      <td>0.003443</td>\n",
              "      <td>0.003999</td>\n",
              "      <td>0.007075</td>\n",
              "      <td>0.002379</td>\n",
              "      <td>0.005371</td>\n",
              "      <td>0.003235</td>\n",
              "    </tr>\n",
              "    <tr>\n",
              "      <th>BABA</th>\n",
              "      <td>0.008224</td>\n",
              "      <td>0.000525</td>\n",
              "      <td>0.002570</td>\n",
              "      <td>0.009454</td>\n",
              "      <td>0.003980</td>\n",
              "      <td>0.003723</td>\n",
              "      <td>0.002772</td>\n",
              "      <td>-0.000378</td>\n",
              "      <td>0.002931</td>\n",
              "      <td>0.005342</td>\n",
              "      <td>...</td>\n",
              "      <td>0.001693</td>\n",
              "      <td>0.003450</td>\n",
              "      <td>0.004603</td>\n",
              "      <td>0.006234</td>\n",
              "      <td>0.003009</td>\n",
              "      <td>0.003150</td>\n",
              "      <td>0.002754</td>\n",
              "      <td>0.003615</td>\n",
              "      <td>0.002055</td>\n",
              "      <td>0.001442</td>\n",
              "    </tr>\n",
              "    <tr>\n",
              "      <th>F</th>\n",
              "      <td>0.003936</td>\n",
              "      <td>0.011660</td>\n",
              "      <td>0.005571</td>\n",
              "      <td>0.003980</td>\n",
              "      <td>0.010637</td>\n",
              "      <td>0.006556</td>\n",
              "      <td>0.011245</td>\n",
              "      <td>0.008501</td>\n",
              "      <td>0.007986</td>\n",
              "      <td>0.006139</td>\n",
              "      <td>...</td>\n",
              "      <td>0.001890</td>\n",
              "      <td>0.002360</td>\n",
              "      <td>0.008268</td>\n",
              "      <td>0.014932</td>\n",
              "      <td>0.003579</td>\n",
              "      <td>0.004042</td>\n",
              "      <td>0.008031</td>\n",
              "      <td>0.002958</td>\n",
              "      <td>0.005860</td>\n",
              "      <td>0.003011</td>\n",
              "    </tr>\n",
              "  </tbody>\n",
              "</table>\n",
              "<p>5 rows × 25 columns</p>\n",
              "</div>\n",
              "      <button class=\"colab-df-convert\" onclick=\"convertToInteractive('df-fefba7dc-db59-45c2-a82e-2ae4eb8e94b1')\"\n",
              "              title=\"Convert this dataframe to an interactive table.\"\n",
              "              style=\"display:none;\">\n",
              "        \n",
              "  <svg xmlns=\"http://www.w3.org/2000/svg\" height=\"24px\"viewBox=\"0 0 24 24\"\n",
              "       width=\"24px\">\n",
              "    <path d=\"M0 0h24v24H0V0z\" fill=\"none\"/>\n",
              "    <path d=\"M18.56 5.44l.94 2.06.94-2.06 2.06-.94-2.06-.94-.94-2.06-.94 2.06-2.06.94zm-11 1L8.5 8.5l.94-2.06 2.06-.94-2.06-.94L8.5 2.5l-.94 2.06-2.06.94zm10 10l.94 2.06.94-2.06 2.06-.94-2.06-.94-.94-2.06-.94 2.06-2.06.94z\"/><path d=\"M17.41 7.96l-1.37-1.37c-.4-.4-.92-.59-1.43-.59-.52 0-1.04.2-1.43.59L10.3 9.45l-7.72 7.72c-.78.78-.78 2.05 0 2.83L4 21.41c.39.39.9.59 1.41.59.51 0 1.02-.2 1.41-.59l7.78-7.78 2.81-2.81c.8-.78.8-2.07 0-2.86zM5.41 20L4 18.59l7.72-7.72 1.47 1.35L5.41 20z\"/>\n",
              "  </svg>\n",
              "      </button>\n",
              "      \n",
              "  <style>\n",
              "    .colab-df-container {\n",
              "      display:flex;\n",
              "      flex-wrap:wrap;\n",
              "      gap: 12px;\n",
              "    }\n",
              "\n",
              "    .colab-df-convert {\n",
              "      background-color: #E8F0FE;\n",
              "      border: none;\n",
              "      border-radius: 50%;\n",
              "      cursor: pointer;\n",
              "      display: none;\n",
              "      fill: #1967D2;\n",
              "      height: 32px;\n",
              "      padding: 0 0 0 0;\n",
              "      width: 32px;\n",
              "    }\n",
              "\n",
              "    .colab-df-convert:hover {\n",
              "      background-color: #E2EBFA;\n",
              "      box-shadow: 0px 1px 2px rgba(60, 64, 67, 0.3), 0px 1px 3px 1px rgba(60, 64, 67, 0.15);\n",
              "      fill: #174EA6;\n",
              "    }\n",
              "\n",
              "    [theme=dark] .colab-df-convert {\n",
              "      background-color: #3B4455;\n",
              "      fill: #D2E3FC;\n",
              "    }\n",
              "\n",
              "    [theme=dark] .colab-df-convert:hover {\n",
              "      background-color: #434B5C;\n",
              "      box-shadow: 0px 1px 3px 1px rgba(0, 0, 0, 0.15);\n",
              "      filter: drop-shadow(0px 1px 2px rgba(0, 0, 0, 0.3));\n",
              "      fill: #FFFFFF;\n",
              "    }\n",
              "  </style>\n",
              "\n",
              "      <script>\n",
              "        const buttonEl =\n",
              "          document.querySelector('#df-fefba7dc-db59-45c2-a82e-2ae4eb8e94b1 button.colab-df-convert');\n",
              "        buttonEl.style.display =\n",
              "          google.colab.kernel.accessAllowed ? 'block' : 'none';\n",
              "\n",
              "        async function convertToInteractive(key) {\n",
              "          const element = document.querySelector('#df-fefba7dc-db59-45c2-a82e-2ae4eb8e94b1');\n",
              "          const dataTable =\n",
              "            await google.colab.kernel.invokeFunction('convertToInteractive',\n",
              "                                                     [key], {});\n",
              "          if (!dataTable) return;\n",
              "\n",
              "          const docLinkHtml = 'Like what you see? Visit the ' +\n",
              "            '<a target=\"_blank\" href=https://colab.research.google.com/notebooks/data_table.ipynb>data table notebook</a>'\n",
              "            + ' to learn more about interactive tables.';\n",
              "          element.innerHTML = '';\n",
              "          dataTable['output_type'] = 'display_data';\n",
              "          await google.colab.output.renderOutput(dataTable, element);\n",
              "          const docLink = document.createElement('div');\n",
              "          docLink.innerHTML = docLinkHtml;\n",
              "          element.appendChild(docLink);\n",
              "        }\n",
              "      </script>\n",
              "    </div>\n",
              "  </div>\n",
              "  "
            ]
          },
          "metadata": {},
          "execution_count": 245
        }
      ],
      "source": [
        "#Compute and display the covariance matrix \n",
        "covariance_matrix = monthly_return.cov()\n",
        "covariance_matrix.head()\n"
      ]
    },
    {
      "cell_type": "code",
      "execution_count": null,
      "id": "e2a9032d",
      "metadata": {
        "id": "e2a9032d"
      },
      "outputs": [],
      "source": [
        "# Convert the covariance matrix into the array form to facilitate latter analysis \n",
        "covariance = np.array(monthly_return.cov())"
      ]
    },
    {
      "cell_type": "code",
      "execution_count": null,
      "id": "34ea3af8",
      "metadata": {
        "colab": {
          "base_uri": "https://localhost:8080/"
        },
        "id": "34ea3af8",
        "outputId": "4a2a136f-3306-41c9-80cf-df25b3283b1d"
      },
      "outputs": [
        {
          "output_type": "execute_result",
          "data": {
            "text/plain": [
              "AMD     0.069673\n",
              "OXY    -0.010903\n",
              "XLF     0.003947\n",
              "BABA    0.008313\n",
              "F       0.003104\n",
              "BAC     0.004515\n",
              "CCL    -0.015180\n",
              "AMC    -0.008164\n",
              "DAL    -0.000681\n",
              "FB      0.015239\n",
              "AMZN    0.027025\n",
              "GLD     0.010307\n",
              "TSLA    0.090886\n",
              "GOOG    0.013860\n",
              "USO    -0.015670\n",
              "UNH     0.014838\n",
              "MMM    -0.005279\n",
              "AAL    -0.023484\n",
              "MULN    0.102116\n",
              "QQQ     0.020076\n",
              "AAPL    0.039391\n",
              "XLE    -0.008184\n",
              "FXI    -0.000428\n",
              "JPM     0.008346\n",
              "V       0.018778\n",
              "dtype: float64"
            ]
          },
          "metadata": {},
          "execution_count": 247
        }
      ],
      "source": [
        "# Compute the means of the percentage change matrix \n",
        "mean_list = np.mean(monthly_return, axis = 0)\n",
        "mean_list\n",
        "\n"
      ]
    },
    {
      "cell_type": "code",
      "execution_count": null,
      "id": "cb36461f",
      "metadata": {
        "id": "cb36461f"
      },
      "outputs": [],
      "source": [
        "# Cover the mean list into the array form to facilitate latter analysis \n",
        "mean = np.array(mean_list)"
      ]
    },
    {
      "cell_type": "markdown",
      "id": "6a36209e",
      "metadata": {
        "id": "6a36209e"
      },
      "source": [
        "### 1.c Solve for the minimum variance portfolio "
      ]
    },
    {
      "cell_type": "code",
      "execution_count": null,
      "id": "d63f2774",
      "metadata": {
        "colab": {
          "base_uri": "https://localhost:8080/"
        },
        "id": "d63f2774",
        "outputId": "17c7d118-1198-4c34-ee1f-d74adf6fdff2"
      },
      "outputs": [
        {
          "output_type": "stream",
          "name": "stdout",
          "text": [
            "-----------------------------------------------------------------\n",
            "           OSQP v0.6.2  -  Operator Splitting QP Solver\n",
            "              (c) Bartolomeo Stellato,  Goran Banjac\n",
            "        University of Oxford  -  Stanford University 2021\n",
            "-----------------------------------------------------------------\n",
            "problem:  variables n = 25, constraints m = 26\n",
            "          nnz(P) + nnz(A) = 375\n",
            "settings: linear system solver = qdldl,\n",
            "          eps_abs = 1.0e-05, eps_rel = 1.0e-05,\n",
            "          eps_prim_inf = 1.0e-04, eps_dual_inf = 1.0e-04,\n",
            "          rho = 1.00e-01 (adaptive),\n",
            "          sigma = 1.00e-06, alpha = 1.60, max_iter = 10000\n",
            "          check_termination: on (interval 25),\n",
            "          scaling: on, scaled_termination: off\n",
            "          warm start: on, polish: on, time_limit: off\n",
            "\n",
            "iter   objective    pri res    dua res    rho        time\n",
            "   1   0.0000e+00   1.00e+00   1.00e+02   1.00e-01   9.09e-04s\n",
            " 150   9.2789e-04   6.49e-07   1.69e-07   4.23e-02   1.34e-02s\n",
            "plsh   9.2789e-04   4.54e-19   1.07e-16   --------   1.53e-02s\n",
            "\n",
            "status:               solved\n",
            "solution polish:      successful\n",
            "number of iterations: 150\n",
            "optimal objective:    0.0009\n",
            "run time:             1.53e-02s\n",
            "optimal rho estimate: 7.91e-03\n",
            "\n"
          ]
        },
        {
          "output_type": "execute_result",
          "data": {
            "text/plain": [
              "0.0009278939303461065"
            ]
          },
          "metadata": {},
          "execution_count": 249
        }
      ],
      "source": [
        "# Solve for the minimum variance portfolio \n",
        "w1 = cp.Variable(25)\n",
        "\n",
        "# solve the minimizing variance optimization problem \n",
        "constraint1 = [sum(w1) == 1, w1 >= 0]\n",
        "\n",
        "prob1 = cp.Problem(cp.Minimize(cp.quad_form(w1,covariance)), [sum(w1) == 1, w1 >= 0])\n",
        "\n",
        "prob1.solve(verbose = True)"
      ]
    },
    {
      "cell_type": "code",
      "execution_count": null,
      "id": "2b38b826",
      "metadata": {
        "colab": {
          "base_uri": "https://localhost:8080/"
        },
        "id": "2b38b826",
        "outputId": "4ca53be6-363c-44ec-a4a2-e867de5dc6d2"
      },
      "outputs": [
        {
          "output_type": "execute_result",
          "data": {
            "text/plain": [
              "True"
            ]
          },
          "metadata": {},
          "execution_count": 250
        }
      ],
      "source": [
        "#Check constraint  \n",
        "np.allclose(np.sum(w1.value),1)"
      ]
    },
    {
      "cell_type": "code",
      "execution_count": null,
      "id": "bb9e5587",
      "metadata": {
        "colab": {
          "base_uri": "https://localhost:8080/"
        },
        "id": "bb9e5587",
        "outputId": "104be727-a3c7-4690-bea8-0106e2545396"
      },
      "outputs": [
        {
          "output_type": "stream",
          "name": "stdout",
          "text": [
            "Minimum variance portfolio:\n",
            "\n",
            "   Solution status = optimal\n",
            "    Solution value = 0.0009278939303461065\n",
            "          Variance = 0.0009278939303461066\n",
            "   Expected return = 0.008653285914910979\n",
            "Standard deviation = 0.030461351420219468\n"
          ]
        }
      ],
      "source": [
        "# Display the minimum variance portfolio (expected return, minimum variance, etc.)\n",
        "w_minvar = w1.value\n",
        "var_minvar = np.dot(w_minvar, np.dot(covariance, w_minvar)) \n",
        "ret_minvar = np.dot(mean, w_minvar)\n",
        "print(\"Minimum variance portfolio:\\n\")\n",
        "print(\"   Solution status =\", prob1.status)\n",
        "print(\"    Solution value =\", prob1.value)\n",
        "print(\"          Variance =\", var_minvar)\n",
        "print(\"   Expected return =\", ret_minvar)\n",
        "print(\"Standard deviation =\", np.sqrt(var_minvar))"
      ]
    },
    {
      "cell_type": "code",
      "execution_count": null,
      "id": "75c270b2",
      "metadata": {
        "colab": {
          "base_uri": "https://localhost:8080/"
        },
        "id": "75c270b2",
        "outputId": "4e6bdb3e-512b-49e8-e430-a23d651f1b0d"
      },
      "outputs": [
        {
          "output_type": "execute_result",
          "data": {
            "text/plain": [
              "array([ 2.34711076e-19,  5.74341943e-20,  8.04974643e-21,  8.47497298e-20,\n",
              "        1.98801020e-20,  1.09424374e-20,  2.73065413e-20,  2.72299411e-19,\n",
              "        5.54485957e-02,  1.08374508e-19,  8.96592846e-20,  6.59194971e-01,\n",
              "       -6.72526425e-20,  2.57096580e-20,  1.76013193e-03,  8.87191244e-02,\n",
              "        5.48842212e-02, -5.82451239e-20, -4.53773627e-19,  3.42087380e-20,\n",
              "       -3.00374544e-20,  8.76648789e-20,  9.01180838e-02, -1.21197912e-21,\n",
              "        4.98748717e-02])"
            ]
          },
          "metadata": {},
          "execution_count": 252
        }
      ],
      "source": [
        "# Display the minimum variance portfolio weight \n",
        "w1.value"
      ]
    },
    {
      "cell_type": "code",
      "execution_count": null,
      "id": "0bc992cc",
      "metadata": {
        "colab": {
          "base_uri": "https://localhost:8080/"
        },
        "id": "0bc992cc",
        "outputId": "5ed0a678-76d3-4709-fd86-a5d4efe2b6c0"
      },
      "outputs": [
        {
          "output_type": "stream",
          "name": "stdout",
          "text": [
            "As we can see in the above, the minimum variance portfolio has the the minimum variance 0.0009278939303461067 and the expected return is 0.008653285914910979.\n"
          ]
        }
      ],
      "source": [
        "print(\"As we can see in the above, the minimum variance portfolio has the the minimum variance 0.0009278939303461067 and the expected return is 0.008653285914910979.\")\n"
      ]
    },
    {
      "cell_type": "markdown",
      "id": "3207d5fd",
      "metadata": {
        "id": "3207d5fd"
      },
      "source": [
        "### 1.d Solve for the maximum return portfolio "
      ]
    },
    {
      "cell_type": "code",
      "execution_count": null,
      "id": "12f46101",
      "metadata": {
        "colab": {
          "base_uri": "https://localhost:8080/"
        },
        "id": "12f46101",
        "outputId": "7df9f700-b5e9-4986-876a-4f48f595f8ab"
      },
      "outputs": [
        {
          "output_type": "execute_result",
          "data": {
            "text/plain": [
              "0.1021163469313111"
            ]
          },
          "metadata": {},
          "execution_count": 254
        }
      ],
      "source": [
        "#Solve for the maximum return portfolio \n",
        "w2 = cp.Variable(25)\n",
        "\n",
        "# solve the maximing return optimization problem \n",
        "prob2 = cp.Problem(cp.Maximize(mean.T@w2),[sum(w2) == 1, w2>= 0])\n",
        "prob2.solve(verbose = True)\n",
        "\n"
      ]
    },
    {
      "cell_type": "code",
      "execution_count": null,
      "id": "d9403e51",
      "metadata": {
        "colab": {
          "base_uri": "https://localhost:8080/"
        },
        "id": "d9403e51",
        "outputId": "537da4c1-5aab-4462-811f-4253c35f2939"
      },
      "outputs": [
        {
          "output_type": "stream",
          "name": "stdout",
          "text": [
            "Maximum return portfolio:\n",
            "\n",
            "   Solution status = optimal\n",
            "    Solution value = 0.1021163469313111\n",
            "   Expected return = 0.10211634693131112\n",
            "          Variance = 0.3397485196506799\n",
            "Standard deviation = 0.582879506974366\n"
          ]
        }
      ],
      "source": [
        "# Display the maximum return portfolio (expected return, variance, etc.)\n",
        "w_maxRet = w2.value\n",
        "var_maxRet = np.dot(w_maxRet, np.dot(covariance, w_maxRet))\n",
        "ret_maxRet = np.dot(mean, w_maxRet)\n",
        "print(\"Maximum return portfolio:\\n\")\n",
        "print(\"   Solution status =\", prob2.status)\n",
        "print(\"    Solution value =\", prob2.value)\n",
        "print(\"   Expected return =\", ret_maxRet)\n",
        "print(\"          Variance =\", var_maxRet)\n",
        "print(\"Standard deviation =\", np.sqrt(var_maxRet))"
      ]
    },
    {
      "cell_type": "code",
      "execution_count": null,
      "id": "90cac472",
      "metadata": {
        "colab": {
          "base_uri": "https://localhost:8080/"
        },
        "id": "90cac472",
        "outputId": "93ff73ba-2219-4d9a-dfc8-16366213e75e"
      },
      "outputs": [
        {
          "output_type": "execute_result",
          "data": {
            "text/plain": [
              "array([4.00446549e-11, 2.33109317e-11, 2.11897368e-11, 2.02514107e-11,\n",
              "       2.13526338e-11, 2.10766681e-11, 2.36702200e-11, 2.30281295e-11,\n",
              "       2.20156300e-11, 1.84127151e-11, 1.42266925e-11, 1.97676588e-11,\n",
              "       1.08469522e-09, 1.88147929e-11, 2.37055006e-11, 1.85314364e-11,\n",
              "       2.26815434e-11, 2.41212013e-11, 9.99999998e-01, 1.68558540e-11,\n",
              "       8.78989931e-12, 2.30303345e-11, 2.19747289e-11, 2.02437383e-11,\n",
              "       1.72961027e-11])"
            ]
          },
          "metadata": {},
          "execution_count": 256
        }
      ],
      "source": [
        "# display the maximum return portfolio weight\n",
        "w2.value"
      ]
    },
    {
      "cell_type": "code",
      "execution_count": null,
      "id": "156fc73f",
      "metadata": {
        "colab": {
          "base_uri": "https://localhost:8080/"
        },
        "id": "156fc73f",
        "outputId": "76238086-957a-4e84-ec60-5b38cdef5475"
      },
      "outputs": [
        {
          "output_type": "stream",
          "name": "stdout",
          "text": [
            "As seen in the above, the maximum return portfolio has the variance 0.33974851965068 and the expected return 0.10211634693131112. \n"
          ]
        }
      ],
      "source": [
        "print(\"As seen in the above, the maximum return portfolio has the variance 0.33974851965068 and the expected return 0.10211634693131112. \")"
      ]
    },
    {
      "cell_type": "markdown",
      "id": "515de3d3",
      "metadata": {
        "id": "515de3d3"
      },
      "source": [
        "### 1.e Compute the classical Markowitz efficient frontier "
      ]
    },
    {
      "cell_type": "code",
      "execution_count": null,
      "id": "cbcadcbf",
      "metadata": {
        "colab": {
          "base_uri": "https://localhost:8080/"
        },
        "id": "cbcadcbf",
        "outputId": "49f78ac2-eab3-4d9c-e75d-836443e1f4d7"
      },
      "outputs": [
        {
          "output_type": "execute_result",
          "data": {
            "text/plain": [
              "array([0.00865329, 0.0105607 , 0.0124681 , 0.01437551, 0.01628292,\n",
              "       0.01819033, 0.02009774, 0.02200515, 0.02391256, 0.02581997,\n",
              "       0.02772738, 0.02963479, 0.0315422 , 0.03344961, 0.03535702,\n",
              "       0.03726443, 0.03917184, 0.04107925, 0.04298666, 0.04489406,\n",
              "       0.04680147, 0.04870888, 0.05061629, 0.0525237 , 0.05443111,\n",
              "       0.05633852, 0.05824593, 0.06015334, 0.06206075, 0.06396816,\n",
              "       0.06587557, 0.06778298, 0.06969039, 0.0715978 , 0.07350521,\n",
              "       0.07541262, 0.07732002, 0.07922743, 0.08113484, 0.08304225,\n",
              "       0.08494966, 0.08685707, 0.08876448, 0.09067189, 0.0925793 ,\n",
              "       0.09448671, 0.09639412, 0.09830153, 0.10020894, 0.10211635])"
            ]
          },
          "metadata": {},
          "execution_count": 258
        }
      ],
      "source": [
        "# Take the target returns between the ret_minvar and ret_maxret \n",
        "targetLen = 50\n",
        "targetRet = np.linspace(ret_minvar,ret_maxRet,targetLen)\n",
        "targetRet"
      ]
    },
    {
      "cell_type": "code",
      "execution_count": null,
      "id": "abb4fe90",
      "metadata": {
        "colab": {
          "base_uri": "https://localhost:8080/"
        },
        "id": "abb4fe90",
        "outputId": "0f08bf56-8a93-4bed-dc1a-ce03906e125a"
      },
      "outputs": [
        {
          "output_type": "stream",
          "name": "stdout",
          "text": [
            "\n",
            "Solution status:  optimal\n",
            "Solution optimal value:  0.33808184042479533\n",
            "Solution w: \n",
            "[-3.69310785e-06 -1.73732232e-05 -1.46513622e-05 -1.39387928e-05\n",
            " -1.48461009e-05 -1.45522788e-05 -1.78618558e-05 -1.64950255e-05\n",
            " -1.54703989e-05 -1.27246575e-05 -1.08433441e-05 -1.35992466e-05\n",
            "  3.02308681e-03 -1.29547906e-05 -1.79986306e-05 -1.28098616e-05\n",
            " -1.61873492e-05 -1.93337499e-05  9.97301088e-01 -1.19644126e-05\n",
            " -8.72463646e-06 -1.66768143e-05 -1.53960167e-05 -1.39080658e-05\n",
            " -1.21554690e-05]\n"
          ]
        }
      ],
      "source": [
        "# Define optimization problem \n",
        "w = cp.Variable(25)\n",
        "eps = cp.Parameter()\n",
        "\n",
        "# write the efficient frontier optimization problem \n",
        "\n",
        "prob3 = cp.Problem(cp.Minimize(cp.quad_form(w, covariance)),\n",
        "          [mean.T@w >= eps,\n",
        "                  sum(w) == 1,\n",
        "                  w >= 0])\n",
        "\n",
        "# compute the efficient frontier \n",
        "w_front = []\n",
        "var_front = []\n",
        "ret_front = []\n",
        "for epsilon in targetRet:\n",
        "    eps.value = epsilon\n",
        "    prob3.solve()\n",
        "    w_front.append(w.value)\n",
        "    var_front.append(np.dot(w.value, np.dot(covariance, w.value)))\n",
        "    ret_front.append(np.dot(mean,w.value))\n",
        "\n",
        "# Print efficient frontier optimization problem results\n",
        "print(\"\\nSolution status: \", prob3.status)\n",
        "print(\"Solution optimal value: \", prob3.value)\n",
        "print(\"Solution w: \")\n",
        "print(w.value)"
      ]
    },
    {
      "cell_type": "markdown",
      "id": "93ec3ccc",
      "metadata": {
        "id": "93ec3ccc"
      },
      "source": [
        "### 1.f Compute the resampled efficient frontier "
      ]
    },
    {
      "cell_type": "code",
      "execution_count": null,
      "id": "6faa7bb9",
      "metadata": {
        "colab": {
          "base_uri": "https://localhost:8080/"
        },
        "id": "6faa7bb9",
        "outputId": "ddd8e5db-b672-4bd4-ee2d-08ab21729c1c"
      },
      "outputs": [
        {
          "output_type": "execute_result",
          "data": {
            "text/plain": [
              "35"
            ]
          },
          "metadata": {},
          "execution_count": 260
        }
      ],
      "source": [
        "# get the sample size of insample \n",
        "sample_size = monthly_return.shape[0]\n",
        "sample_size"
      ]
    },
    {
      "cell_type": "code",
      "execution_count": null,
      "id": "c40673be",
      "metadata": {
        "id": "c40673be"
      },
      "outputs": [],
      "source": [
        "# Resample the dataset for 100 times and find the classical efficient frontier for each resampled dataset \n",
        "\n",
        "# Create the belowing list to store the relevant resampling results \n",
        "covariance_resample_list = []  \n",
        "mean_resample_list = []\n",
        "var_minvar_list = []\n",
        "ret_minvar_list = []\n",
        "var_maxret_list = []\n",
        "ret_maxret_list = []\n",
        "var_frontier_list = []\n",
        "ret_frontier_list = []\n",
        "w_frontier_list = []\n",
        "\n",
        "\n",
        "np.random.seed(10)\n",
        "\n",
        "# Resample 100 times \n",
        "for i in range(100):\n",
        "    # get the resample data by drawing from the multilvariate normal distribution with mean and covariance\n",
        "    X_resample = np.random.multivariate_normal(mean, covariance, sample_size)\n",
        "    \n",
        "    # Calculate covariance matrix for resampled data and convert it to array \n",
        "    covariance_res = np.cov(X_resample.T)\n",
        "    \n",
        "    #calculate the mean for resampled data and convert it to array\n",
        "    mean_res = np.mean(X_resample, axis = 0)\n",
        "\n",
        "    \n",
        "    #compute the minimum variance portfolio\n",
        "    w1_res = cp.Variable(25)\n",
        "    constraint1_res = [sum(w1_res) == 1, w1_res >= 0]\n",
        "    prob1_res = cp.Problem(cp.Minimize(cp.quad_form(w1_res,covariance_res)), [sum(w1_res) == 1, w1_res >= 0])\n",
        "    prob1_res.solve(verbose = False)\n",
        "    \n",
        "    w_minvar_res = w1_res.value #compute the minimum variance portfolio weights\n",
        "    ret_minvar_res = np.dot(mean_res, w_minvar_res) #compute the minimum variance portfolio return \n",
        "    var_minvar_res = np.dot(w_minvar_res, np.dot(covariance_res,w_minvar_res)) #compute the minimum variance portfolio variance \n",
        "\n",
        "    \n",
        "    #compute the maximum return portfolio \n",
        "    w2_res = cp.Variable(25)\n",
        "    prob2_res = cp.Problem(cp.Maximize(mean_res.T@w2_res),[sum(w2_res) == 1, w2_res>= 0])\n",
        "    prob2_res.solve(verbose = False)\n",
        "\n",
        "    \n",
        "    w_maxret_res = w2_res.value #compute the maximum return portfolio weights \n",
        "    ret_maxret_res = np.dot(mean_res, w_maxret_res) #compute the maximum return portfolio return \n",
        "    var_maxret_res = np.dot(w_maxret_res, np.dot(covariance_res, w_maxret_res)) #compute the maximum return portfolio variance \n",
        "    \n",
        "    # calculate the target return for resampeld data \n",
        "    target_ret_res = np.linspace(ret_minvar_res, ret_maxret_res, 50)\n",
        "    \n",
        "    # Define optimization problem and compute one portfolio on efficient frontier \n",
        "    w_res = cp.Variable(25)\n",
        "    eps_res = cp.Parameter()\n",
        "    prob3_res = cp.Problem(cp.Minimize(cp.quad_form(w_res, covariance_res)),\n",
        "                 [mean_res.T@w_res >= eps_res,\n",
        "                  sum(w_res) == 1,\n",
        "                  w_res >= 0])\n",
        "    w_front_res = []\n",
        "    var_front_res = []\n",
        "    ret_front_res = []\n",
        "    for epsilon in target_ret_res[:-1]:\n",
        "        eps_res.value = epsilon\n",
        "        prob3_res.solve(verbose = False)\n",
        "        w_front_res.append(w_res.value) \n",
        "        var_front_res.append(np.dot(w_res.value, np.dot(covariance_res, w_res.value)))\n",
        "        ret_front_res.append(np.dot(mean_res, w_res.value))\n",
        "    \n",
        "    w_front_res.append(w_maxret_res)\n",
        "    var_front_res.append(var_maxret_res)\n",
        "    ret_front_res.append(ret_maxret_res)\n",
        "    \n",
        "    \n",
        "    # Store results for each resampling \n",
        "    covariance_resample_list.append(covariance_res)\n",
        "    mean_resample_list.append(mean_res)\n",
        "    var_minvar_list.append(var_minvar_res)\n",
        "    ret_minvar_list.append(ret_minvar_res)\n",
        "    var_maxret_list.append(var_maxret_res)\n",
        "    ret_maxret_list.append(ret_maxret_res)\n",
        "    var_frontier_list.append(var_front_res)\n",
        "    ret_frontier_list.append(ret_front_res)\n",
        "    w_frontier_list.append(w_front_res)\n",
        "    \n",
        "\n",
        "\n",
        "\n",
        "\n",
        "        "
      ]
    },
    {
      "cell_type": "code",
      "execution_count": null,
      "id": "3d1cbbb1",
      "metadata": {
        "id": "3d1cbbb1"
      },
      "outputs": [],
      "source": [
        "#Compute the average weights at each return level \n",
        "avg_w_frontier = np.mean(np.array(w_frontier_list), axis = 0)\n"
      ]
    },
    {
      "cell_type": "code",
      "execution_count": null,
      "id": "0c4f407e",
      "metadata": {
        "id": "0c4f407e"
      },
      "outputs": [],
      "source": [
        "#Compute the resampled efficient frontier based on the average weights and original mean & covariance \n",
        "var_frontier_resample = []\n",
        "ret_frontier_resample = []\n",
        "for avgfrontier in avg_w_frontier: \n",
        "    ret_frontier_resample.append(np.dot(mean,avgfrontier))\n",
        "    var_frontier_resample.append(np.dot(avgfrontier, np.dot(covariance, avgfrontier)))"
      ]
    },
    {
      "cell_type": "markdown",
      "id": "bfb271d8",
      "metadata": {
        "id": "bfb271d8"
      },
      "source": [
        " ## Section2: Using the frontiers, compute three portfolios along classical and resampled frontiers. Compare the performance of each of portfolios on out-of-sample data. "
      ]
    },
    {
      "cell_type": "markdown",
      "id": "57d83b7a",
      "metadata": {
        "id": "57d83b7a"
      },
      "source": [
        "### 2.a  On the classical frontier, find the minimum variance, maximum return, and sharpe ratio portfolio weights."
      ]
    },
    {
      "cell_type": "code",
      "execution_count": null,
      "id": "0e7b48ee",
      "metadata": {
        "colab": {
          "base_uri": "https://localhost:8080/"
        },
        "id": "0e7b48ee",
        "outputId": "f37a0c89-b138-44d5-d329-3bffb91a50a7"
      },
      "outputs": [
        {
          "output_type": "execute_result",
          "data": {
            "text/plain": [
              "array([ 3.27231831e-19, -1.14158479e-20, -8.31044264e-22,  1.11997265e-19,\n",
              "        1.90860299e-20,  1.70009911e-20, -2.67194251e-20,  8.07705709e-20,\n",
              "        5.54485957e-02,  8.99771706e-20,  9.08772980e-20,  6.59194971e-01,\n",
              "        9.71760135e-20,  3.48214411e-20,  1.76013193e-03,  8.87191244e-02,\n",
              "        5.48842212e-02, -8.25234018e-20, -1.26897129e-20,  4.97872186e-20,\n",
              "        4.42501729e-20,  2.33161871e-20,  9.01180838e-02,  8.74792459e-21,\n",
              "        4.98748717e-02])"
            ]
          },
          "metadata": {},
          "execution_count": 264
        }
      ],
      "source": [
        "# On the classical frontier, find and display the minimum variance weight\n",
        "min_var_weight = w_front[0]\n",
        "min_var_weight"
      ]
    },
    {
      "cell_type": "code",
      "execution_count": null,
      "id": "2dd524a7",
      "metadata": {
        "colab": {
          "base_uri": "https://localhost:8080/"
        },
        "id": "2dd524a7",
        "outputId": "faac5a62-2692-4cd2-ed24-be42210eb60a"
      },
      "outputs": [
        {
          "output_type": "execute_result",
          "data": {
            "text/plain": [
              "array([-3.69310785e-06, -1.73732232e-05, -1.46513622e-05, -1.39387928e-05,\n",
              "       -1.48461009e-05, -1.45522788e-05, -1.78618558e-05, -1.64950255e-05,\n",
              "       -1.54703989e-05, -1.27246575e-05, -1.08433441e-05, -1.35992466e-05,\n",
              "        3.02308681e-03, -1.29547906e-05, -1.79986306e-05, -1.28098616e-05,\n",
              "       -1.61873492e-05, -1.93337499e-05,  9.97301088e-01, -1.19644126e-05,\n",
              "       -8.72463646e-06, -1.66768143e-05, -1.53960167e-05, -1.39080658e-05,\n",
              "       -1.21554690e-05])"
            ]
          },
          "metadata": {},
          "execution_count": 265
        }
      ],
      "source": [
        "# On the calssical frontier, find and display the maximum return weight\n",
        "max_ret_weight = w_front[len(targetRet)-1]\n",
        "max_ret_weight"
      ]
    },
    {
      "cell_type": "code",
      "execution_count": null,
      "id": "16105c64",
      "metadata": {
        "colab": {
          "base_uri": "https://localhost:8080/"
        },
        "id": "16105c64",
        "outputId": "47b3e145-09d4-4b5b-b342-f902e1634e20"
      },
      "outputs": [
        {
          "output_type": "execute_result",
          "data": {
            "text/plain": [
              "array([0.21841729, 0.27797437, 0.32773841, 0.36826892, 0.40084006,\n",
              "       0.42615505, 0.44633031, 0.4624906 , 0.47545637, 0.48589632,\n",
              "       0.49435103, 0.50109046, 0.50645874, 0.51074942, 0.5141787 ,\n",
              "       0.51666607, 0.51850325, 0.51976041, 0.52057517, 0.52104411,\n",
              "       0.52124292, 0.52123104, 0.52105527, 0.52075255, 0.52035209,\n",
              "       0.51987708, 0.51934591, 0.51877323, 0.51817071, 0.51754764,\n",
              "       0.51691144, 0.51626799, 0.51562199, 0.51497714, 0.51433639,\n",
              "       0.51370202, 0.51305877, 0.51222578, 0.50606699, 0.49190377,\n",
              "       0.47256729, 0.4507326 , 0.42825704, 0.40634554, 0.38566497,\n",
              "       0.34299185, 0.28488889, 0.23609746, 0.19944177, 0.17218151])"
            ]
          },
          "metadata": {},
          "execution_count": 266
        }
      ],
      "source": [
        "# On the classical frontier, find the sharpe ratio weight \n",
        "risk_free_rate = 0.002 \n",
        "\n",
        "ret_front_array = np.array(ret_front)\n",
        "var_front_array = np.array(var_front)\n",
        "\n",
        "# Calculate the list of sharpe ratios of portfolios on the classical frontier \n",
        "sharpe_ratio_classical= (ret_front_array - risk_free_rate)/np.sqrt(var_front_array)\n",
        "sharpe_ratio_classical "
      ]
    },
    {
      "cell_type": "code",
      "execution_count": null,
      "id": "d79303aa",
      "metadata": {
        "colab": {
          "base_uri": "https://localhost:8080/"
        },
        "id": "d79303aa",
        "outputId": "77220d6a-bc4f-4ac1-87e7-112ee5889ce8"
      },
      "outputs": [
        {
          "output_type": "stream",
          "name": "stdout",
          "text": [
            "20\n",
            "[ 3.03145246e-01 -5.30561024e-06 -1.62004752e-06 -6.56583631e-07\n",
            " -1.61935898e-06 -1.94628171e-06 -4.55772788e-06 -5.86979133e-06\n",
            " -2.61723444e-06 -1.03464147e-06 -4.15306274e-07  4.07769810e-01\n",
            "  1.68198785e-01 -9.44505366e-07 -2.72697665e-06 -7.81266516e-07\n",
            " -1.57975037e-06 -3.63964216e-06  2.27431086e-02 -6.76639004e-07\n",
            "  9.81855846e-02 -3.04851736e-06 -1.16261019e-06 -1.51716197e-06\n",
            " -8.15205306e-07]\n"
          ]
        }
      ],
      "source": [
        "# Find and display the optimal sharpe ratio weights on the classical frontier \n",
        "sharpe_ratio_classical_weight = w_front[sharpe_ratio_classical.argmax()]\n",
        "print(sharpe_ratio_classical.argmax())\n",
        "print(sharpe_ratio_classical_weight)"
      ]
    },
    {
      "cell_type": "markdown",
      "id": "403ff720",
      "metadata": {
        "id": "403ff720"
      },
      "source": [
        "### 2.b On the resampled frontier, find minimum variance, maximum return and sharpe ratio portfolio weights."
      ]
    },
    {
      "cell_type": "code",
      "execution_count": null,
      "id": "63a480e8",
      "metadata": {
        "colab": {
          "base_uri": "https://localhost:8080/"
        },
        "id": "63a480e8",
        "outputId": "c8d396ae-aa1b-4af0-da90-77c7c56d05f5"
      },
      "outputs": [
        {
          "output_type": "execute_result",
          "data": {
            "text/plain": [
              "array([-9.26579919e-08,  8.22351018e-05, -6.73352939e-09,  2.93301128e-03,\n",
              "        4.00888414e-03, -3.92143792e-09,  8.35427238e-09,  7.38381773e-03,\n",
              "        4.02572561e-02, -7.06651839e-09,  6.13803091e-03,  6.25981702e-01,\n",
              "       -7.08559273e-08,  1.57941807e-02,  9.98081962e-03,  9.04684945e-02,\n",
              "        6.84753672e-02,  2.80366523e-04,  6.06527682e-04, -2.23975844e-08,\n",
              "        1.49819572e-03, -9.15901368e-09,  7.57890032e-02,  1.15640648e-02,\n",
              "        3.87582471e-02])"
            ]
          },
          "metadata": {},
          "execution_count": 268
        }
      ],
      "source": [
        "# On the resampled efficient frontier, find and display the minimum variance weight \n",
        "min_var_res_weight = avg_w_frontier[0]\n",
        "min_var_res_weight"
      ]
    },
    {
      "cell_type": "code",
      "execution_count": null,
      "id": "d206ea5b",
      "metadata": {
        "colab": {
          "base_uri": "https://localhost:8080/"
        },
        "id": "d206ea5b",
        "outputId": "be59fe79-97a3-4b58-ecb2-fa8dd72b12e5"
      },
      "outputs": [
        {
          "output_type": "execute_result",
          "data": {
            "text/plain": [
              "array([1.79999996e-01, 1.40992257e-10, 1.26107286e-10, 1.83298674e-10,\n",
              "       1.44730100e-10, 1.33588526e-10, 1.46508876e-10, 1.77068654e-10,\n",
              "       1.50961493e-10, 1.63702156e-10, 1.85223977e-10, 1.97768870e-10,\n",
              "       4.19999998e-01, 1.30851931e-10, 1.84656030e-10, 1.78185821e-10,\n",
              "       1.49348588e-10, 1.59251214e-10, 3.90000002e-01, 1.57462250e-10,\n",
              "       1.00000005e-02, 1.34682823e-10, 1.38452665e-10, 1.31260187e-10,\n",
              "       1.92972636e-10])"
            ]
          },
          "metadata": {},
          "execution_count": 269
        }
      ],
      "source": [
        "# On the resampled efficient frontier, find and display the maximum return weight \n",
        "max_ret_res_weight = avg_w_frontier[len(target_ret_res)-1]\n",
        "max_ret_res_weight"
      ]
    },
    {
      "cell_type": "code",
      "execution_count": null,
      "id": "d4c86843",
      "metadata": {
        "colab": {
          "base_uri": "https://localhost:8080/"
        },
        "id": "d4c86843",
        "outputId": "f0e9c909-95dd-4ce0-c010-dbe7a5c5fabb"
      },
      "outputs": [
        {
          "output_type": "execute_result",
          "data": {
            "text/plain": [
              "array([0.21013732, 0.25120872, 0.28754394, 0.31959847, 0.34763791,\n",
              "       0.37224017, 0.39321518, 0.41095165, 0.42544749, 0.43719685,\n",
              "       0.44659474, 0.45401615, 0.46008602, 0.46491363, 0.46868601,\n",
              "       0.4719798 , 0.47496353, 0.47745874, 0.47968517, 0.48161524,\n",
              "       0.48352252, 0.48522711, 0.48667143, 0.48777423, 0.48862189,\n",
              "       0.48931757, 0.48897272, 0.48831035, 0.48731991, 0.48547618,\n",
              "       0.48298052, 0.47962811, 0.4753892 , 0.47065263, 0.46557757,\n",
              "       0.45958303, 0.45333381, 0.4467215 , 0.4396119 , 0.43223812,\n",
              "       0.42433551, 0.41586711, 0.40620571, 0.39656626, 0.38559506,\n",
              "       0.37356243, 0.36141396, 0.35007386, 0.33924712, 0.32734582])"
            ]
          },
          "metadata": {},
          "execution_count": 270
        }
      ],
      "source": [
        "# On the resampled efficient frontier, find and display the sharpe ratio weight \n",
        "\n",
        "ret_front_res_array = np.array(ret_frontier_resample)\n",
        "var_front_res_array = np.array(var_frontier_resample)\n",
        "\n",
        "# Calculate the list of sharpe ratios of the portfolios on the resampled frontier \n",
        "sharpe_ratio_resample = (ret_front_res_array - risk_free_rate)/np.sqrt(var_front_res_array)\n",
        "sharpe_ratio_resample"
      ]
    },
    {
      "cell_type": "code",
      "execution_count": null,
      "id": "badd3b1e",
      "metadata": {
        "colab": {
          "base_uri": "https://localhost:8080/"
        },
        "id": "badd3b1e",
        "outputId": "52a1f024-c6b5-465f-9b33-b267252c8a6d"
      },
      "outputs": [
        {
          "output_type": "stream",
          "name": "stdout",
          "text": [
            "25\n",
            "[ 2.92721720e-01  1.06517340e-04 -2.66156689e-06  1.70726492e-02\n",
            "  6.07899160e-03 -2.88061432e-06 -5.06585330e-06  7.50977292e-04\n",
            " -3.50507448e-06  1.13393102e-02  1.46334040e-02  1.24190752e-01\n",
            "  2.08047309e-01  2.00653112e-02  1.38851062e-03  6.65475679e-02\n",
            "  1.78445619e-04 -5.19959717e-06  6.30565499e-02 -1.75296360e-06\n",
            "  1.04631298e-01 -3.82101656e-06 -2.58270844e-06  1.88301399e-02\n",
            "  5.03880168e-02]\n"
          ]
        }
      ],
      "source": [
        "# Find and display the optimal sharpe ratio weights on the resampled frontier \n",
        "sharpe_ratio_resample_weight = avg_w_frontier[sharpe_ratio_resample.argmax()]\n",
        "print(sharpe_ratio_resample.argmax()) \n",
        "print(sharpe_ratio_resample_weight) "
      ]
    },
    {
      "cell_type": "markdown",
      "id": "bfc1a492",
      "metadata": {
        "id": "bfc1a492"
      },
      "source": [
        "### 2.c For each of the 6 portfolios, calculate the expected return on the 2021 (out-of-sample) data "
      ]
    },
    {
      "cell_type": "code",
      "execution_count": null,
      "id": "e85453d4",
      "metadata": {
        "id": "e85453d4"
      },
      "outputs": [],
      "source": [
        "# Drop date \n",
        "price_2021 = outofsample.iloc[:, 1:]\n",
        "\n",
        "# Extract only the first month and the last month to calculate the yearly return \n",
        "price_2021_first_last = price_2021.drop(price_2021.index[1:11])\n",
        "price_2021_first_last.reset_index(inplace = True, drop = True)"
      ]
    },
    {
      "cell_type": "code",
      "execution_count": null,
      "id": "a3ccac8d",
      "metadata": {
        "colab": {
          "base_uri": "https://localhost:8080/",
          "height": 174
        },
        "id": "a3ccac8d",
        "outputId": "4e99dfd6-7ae2-4740-f21f-a261285da6d3"
      },
      "outputs": [
        {
          "output_type": "execute_result",
          "data": {
            "text/plain": [
              "       AMD       OXY       XLF     BABA         F       BAC       CCL  \\\n",
              "1  0.68029  0.446726  0.366112 -0.53201  0.982391  0.522067  0.077665   \n",
              "\n",
              "        AMC       DAL        FB  ...       UNH       MMM      AAL      MULN  \\\n",
              "1  1.051282  0.029505  0.302017  ...  0.521509  0.043312  0.04601 -0.584591   \n",
              "\n",
              "        QQQ      AAPL       XLE       FXI       JPM         V  \n",
              "1  0.269255  0.353931  0.458557 -0.256478  0.261573  0.128286  \n",
              "\n",
              "[1 rows x 25 columns]"
            ],
            "text/html": [
              "\n",
              "  <div id=\"df-bb57dcfc-fe04-48bc-84cd-2a17b47d9fe9\">\n",
              "    <div class=\"colab-df-container\">\n",
              "      <div>\n",
              "<style scoped>\n",
              "    .dataframe tbody tr th:only-of-type {\n",
              "        vertical-align: middle;\n",
              "    }\n",
              "\n",
              "    .dataframe tbody tr th {\n",
              "        vertical-align: top;\n",
              "    }\n",
              "\n",
              "    .dataframe thead th {\n",
              "        text-align: right;\n",
              "    }\n",
              "</style>\n",
              "<table border=\"1\" class=\"dataframe\">\n",
              "  <thead>\n",
              "    <tr style=\"text-align: right;\">\n",
              "      <th></th>\n",
              "      <th>AMD</th>\n",
              "      <th>OXY</th>\n",
              "      <th>XLF</th>\n",
              "      <th>BABA</th>\n",
              "      <th>F</th>\n",
              "      <th>BAC</th>\n",
              "      <th>CCL</th>\n",
              "      <th>AMC</th>\n",
              "      <th>DAL</th>\n",
              "      <th>FB</th>\n",
              "      <th>...</th>\n",
              "      <th>UNH</th>\n",
              "      <th>MMM</th>\n",
              "      <th>AAL</th>\n",
              "      <th>MULN</th>\n",
              "      <th>QQQ</th>\n",
              "      <th>AAPL</th>\n",
              "      <th>XLE</th>\n",
              "      <th>FXI</th>\n",
              "      <th>JPM</th>\n",
              "      <th>V</th>\n",
              "    </tr>\n",
              "  </thead>\n",
              "  <tbody>\n",
              "    <tr>\n",
              "      <th>1</th>\n",
              "      <td>0.68029</td>\n",
              "      <td>0.446726</td>\n",
              "      <td>0.366112</td>\n",
              "      <td>-0.53201</td>\n",
              "      <td>0.982391</td>\n",
              "      <td>0.522067</td>\n",
              "      <td>0.077665</td>\n",
              "      <td>1.051282</td>\n",
              "      <td>0.029505</td>\n",
              "      <td>0.302017</td>\n",
              "      <td>...</td>\n",
              "      <td>0.521509</td>\n",
              "      <td>0.043312</td>\n",
              "      <td>0.04601</td>\n",
              "      <td>-0.584591</td>\n",
              "      <td>0.269255</td>\n",
              "      <td>0.353931</td>\n",
              "      <td>0.458557</td>\n",
              "      <td>-0.256478</td>\n",
              "      <td>0.261573</td>\n",
              "      <td>0.128286</td>\n",
              "    </tr>\n",
              "  </tbody>\n",
              "</table>\n",
              "<p>1 rows × 25 columns</p>\n",
              "</div>\n",
              "      <button class=\"colab-df-convert\" onclick=\"convertToInteractive('df-bb57dcfc-fe04-48bc-84cd-2a17b47d9fe9')\"\n",
              "              title=\"Convert this dataframe to an interactive table.\"\n",
              "              style=\"display:none;\">\n",
              "        \n",
              "  <svg xmlns=\"http://www.w3.org/2000/svg\" height=\"24px\"viewBox=\"0 0 24 24\"\n",
              "       width=\"24px\">\n",
              "    <path d=\"M0 0h24v24H0V0z\" fill=\"none\"/>\n",
              "    <path d=\"M18.56 5.44l.94 2.06.94-2.06 2.06-.94-2.06-.94-.94-2.06-.94 2.06-2.06.94zm-11 1L8.5 8.5l.94-2.06 2.06-.94-2.06-.94L8.5 2.5l-.94 2.06-2.06.94zm10 10l.94 2.06.94-2.06 2.06-.94-2.06-.94-.94-2.06-.94 2.06-2.06.94z\"/><path d=\"M17.41 7.96l-1.37-1.37c-.4-.4-.92-.59-1.43-.59-.52 0-1.04.2-1.43.59L10.3 9.45l-7.72 7.72c-.78.78-.78 2.05 0 2.83L4 21.41c.39.39.9.59 1.41.59.51 0 1.02-.2 1.41-.59l7.78-7.78 2.81-2.81c.8-.78.8-2.07 0-2.86zM5.41 20L4 18.59l7.72-7.72 1.47 1.35L5.41 20z\"/>\n",
              "  </svg>\n",
              "      </button>\n",
              "      \n",
              "  <style>\n",
              "    .colab-df-container {\n",
              "      display:flex;\n",
              "      flex-wrap:wrap;\n",
              "      gap: 12px;\n",
              "    }\n",
              "\n",
              "    .colab-df-convert {\n",
              "      background-color: #E8F0FE;\n",
              "      border: none;\n",
              "      border-radius: 50%;\n",
              "      cursor: pointer;\n",
              "      display: none;\n",
              "      fill: #1967D2;\n",
              "      height: 32px;\n",
              "      padding: 0 0 0 0;\n",
              "      width: 32px;\n",
              "    }\n",
              "\n",
              "    .colab-df-convert:hover {\n",
              "      background-color: #E2EBFA;\n",
              "      box-shadow: 0px 1px 2px rgba(60, 64, 67, 0.3), 0px 1px 3px 1px rgba(60, 64, 67, 0.15);\n",
              "      fill: #174EA6;\n",
              "    }\n",
              "\n",
              "    [theme=dark] .colab-df-convert {\n",
              "      background-color: #3B4455;\n",
              "      fill: #D2E3FC;\n",
              "    }\n",
              "\n",
              "    [theme=dark] .colab-df-convert:hover {\n",
              "      background-color: #434B5C;\n",
              "      box-shadow: 0px 1px 3px 1px rgba(0, 0, 0, 0.15);\n",
              "      filter: drop-shadow(0px 1px 2px rgba(0, 0, 0, 0.3));\n",
              "      fill: #FFFFFF;\n",
              "    }\n",
              "  </style>\n",
              "\n",
              "      <script>\n",
              "        const buttonEl =\n",
              "          document.querySelector('#df-bb57dcfc-fe04-48bc-84cd-2a17b47d9fe9 button.colab-df-convert');\n",
              "        buttonEl.style.display =\n",
              "          google.colab.kernel.accessAllowed ? 'block' : 'none';\n",
              "\n",
              "        async function convertToInteractive(key) {\n",
              "          const element = document.querySelector('#df-bb57dcfc-fe04-48bc-84cd-2a17b47d9fe9');\n",
              "          const dataTable =\n",
              "            await google.colab.kernel.invokeFunction('convertToInteractive',\n",
              "                                                     [key], {});\n",
              "          if (!dataTable) return;\n",
              "\n",
              "          const docLinkHtml = 'Like what you see? Visit the ' +\n",
              "            '<a target=\"_blank\" href=https://colab.research.google.com/notebooks/data_table.ipynb>data table notebook</a>'\n",
              "            + ' to learn more about interactive tables.';\n",
              "          element.innerHTML = '';\n",
              "          dataTable['output_type'] = 'display_data';\n",
              "          await google.colab.output.renderOutput(dataTable, element);\n",
              "          const docLink = document.createElement('div');\n",
              "          docLink.innerHTML = docLinkHtml;\n",
              "          element.appendChild(docLink);\n",
              "        }\n",
              "      </script>\n",
              "    </div>\n",
              "  </div>\n",
              "  "
            ]
          },
          "metadata": {},
          "execution_count": 273
        }
      ],
      "source": [
        "# Compute percentage change of return for out-of-sample data \n",
        "return_2021 = price_2021_first_last.pct_change().iloc[1:,:]\n",
        "\n",
        "return_2021"
      ]
    },
    {
      "cell_type": "code",
      "execution_count": null,
      "id": "97df35ed",
      "metadata": {
        "colab": {
          "base_uri": "https://localhost:8080/"
        },
        "id": "97df35ed",
        "outputId": "c158092a-922d-4175-c2cc-f1f17f91d112"
      },
      "outputs": [
        {
          "output_type": "execute_result",
          "data": {
            "text/plain": [
              "array([0.02822425])"
            ]
          },
          "metadata": {},
          "execution_count": 274
        }
      ],
      "source": [
        "# From the classical efficient frontier to find the minimum variance porfolio return rate on outofsample data \n",
        "ret_minvar_2021 = np.dot(return_2021, min_var_weight)\n",
        "ret_minvar_2021"
      ]
    },
    {
      "cell_type": "code",
      "execution_count": null,
      "id": "ac201696",
      "metadata": {
        "colab": {
          "base_uri": "https://localhost:8080/"
        },
        "id": "ac201696",
        "outputId": "537487aa-c277-418b-cc81-bc471bad6fe4"
      },
      "outputs": [
        {
          "output_type": "execute_result",
          "data": {
            "text/plain": [
              "array([-0.58210478])"
            ]
          },
          "metadata": {},
          "execution_count": 275
        }
      ],
      "source": [
        "# From the classical efficient frontier to find the maximum return portfolio return rate on outofsample data \n",
        "ret_maxret_2021 = np.dot(return_2021, max_ret_weight)\n",
        "ret_maxret_2021"
      ]
    },
    {
      "cell_type": "code",
      "execution_count": null,
      "id": "7a890f6b",
      "metadata": {
        "colab": {
          "base_uri": "https://localhost:8080/"
        },
        "id": "7a890f6b",
        "outputId": "abbc3f37-2409-48db-dfe2-4e6c2313a866"
      },
      "outputs": [
        {
          "output_type": "execute_result",
          "data": {
            "text/plain": [
              "array([0.27956668])"
            ]
          },
          "metadata": {},
          "execution_count": 276
        }
      ],
      "source": [
        "# From the classical efficient frontier to find the sharpe ratio portfolio return rate on outofsample data \n",
        "ret_sharperatio_2021 = np.dot(return_2021,sharpe_ratio_classical_weight)\n",
        "ret_sharperatio_2021"
      ]
    },
    {
      "cell_type": "code",
      "execution_count": null,
      "id": "4188f44d",
      "metadata": {
        "colab": {
          "base_uri": "https://localhost:8080/"
        },
        "id": "4188f44d",
        "outputId": "54150772-bd70-43dd-9474-4b50d17af104"
      },
      "outputs": [
        {
          "output_type": "stream",
          "name": "stdout",
          "text": [
            "Given the initial investment of $1000,\n",
            "\n",
            "On the classical efficient frontier, the minimum variance portfolio's return on out-of-sample data is $ [28.22424688]\n",
            "On the classical efficient frontier, the maximum return portfolio's return on out-of-sample data is $ [-582.10477944]\n",
            "On the classical efficient frontier, the optimal sharpe ratio portfolio's return on Out-of-sample data is $ [279.56668474]\n"
          ]
        }
      ],
      "source": [
        "# Calculate the expected return on out-of-sample given $1000 initial investment for above three portfolios on the classical frontier \n",
        "print('Given the initial investment of $1000,\\n')\n",
        "print(\"On the classical efficient frontier, the minimum variance portfolio's return on out-of-sample data is $\", ret_minvar_2021*1000)\n",
        "print(\"On the classical efficient frontier, the maximum return portfolio's return on out-of-sample data is $\", ret_maxret_2021*1000)\n",
        "print(\"On the classical efficient frontier, the optimal sharpe ratio portfolio's return on Out-of-sample data is $\", ret_sharperatio_2021*1000)\n"
      ]
    },
    {
      "cell_type": "code",
      "execution_count": null,
      "id": "655028ac",
      "metadata": {
        "colab": {
          "base_uri": "https://localhost:8080/"
        },
        "id": "655028ac",
        "outputId": "7b71a2b9-a910-4ac6-86d4-6664f9d383a5"
      },
      "outputs": [
        {
          "output_type": "execute_result",
          "data": {
            "text/plain": [
              "array([0.05906256])"
            ]
          },
          "metadata": {},
          "execution_count": 278
        }
      ],
      "source": [
        "# From the resampled efficient frontier to find the minimum variance portfolio return rate on outofsample data \n",
        "ret_minvar_res_2021 =  np.dot(return_2021,min_var_res_weight)\n",
        "ret_minvar_res_2021"
      ]
    },
    {
      "cell_type": "code",
      "execution_count": null,
      "id": "944acf52",
      "metadata": {
        "colab": {
          "base_uri": "https://localhost:8080/"
        },
        "id": "944acf52",
        "outputId": "a5173a63-81ed-4534-eb71-a18292e4f635"
      },
      "outputs": [
        {
          "output_type": "execute_result",
          "data": {
            "text/plain": [
              "array([0.03733405])"
            ]
          },
          "metadata": {},
          "execution_count": 279
        }
      ],
      "source": [
        "# From the resampled efficient frontier to find the maximum return portfolio return rate on outofsample data \n",
        "ret_maxret_res_2021 = np.dot(return_2021, max_ret_res_weight)\n",
        "ret_maxret_res_2021 "
      ]
    },
    {
      "cell_type": "code",
      "execution_count": null,
      "id": "f0482b2a",
      "metadata": {
        "colab": {
          "base_uri": "https://localhost:8080/"
        },
        "id": "f0482b2a",
        "outputId": "ca4cd095-932a-44db-b674-128313b1d9f5"
      },
      "outputs": [
        {
          "output_type": "execute_result",
          "data": {
            "text/plain": [
              "array([0.32729008])"
            ]
          },
          "metadata": {},
          "execution_count": 280
        }
      ],
      "source": [
        "# From the resampled efficient frontier to find the optimal sharpe ratio portfolio return on outofsample data \n",
        "ret_sharperatio_res_2021 = np.dot(return_2021,sharpe_ratio_resample_weight)\n",
        "ret_sharperatio_res_2021"
      ]
    },
    {
      "cell_type": "code",
      "execution_count": null,
      "id": "058db966",
      "metadata": {
        "colab": {
          "base_uri": "https://localhost:8080/"
        },
        "id": "058db966",
        "outputId": "cf4a6d15-9f3e-40ce-f74f-c146993c0892"
      },
      "outputs": [
        {
          "output_type": "stream",
          "name": "stdout",
          "text": [
            "Given the initial investment of $1000,\n",
            "\n",
            "On the resampled efficient frontier, the minimum variance portfolio's return on out-of-sample data is $ [59.06256394]\n",
            "On the resampled efficient frontier, the maximum return portfolio's return on out-of-sample data is $ [37.33405228]\n",
            "On the resampled efficient frontier, the optimal sharpe ratio portfolio's return on Out-of-sample data is $ [327.29007761]\n"
          ]
        }
      ],
      "source": [
        "# Calculate the expected return on out-of-sample data given $1000 initial investment for above three portfolios on the resampled efficient frontiet\\\n",
        "print('Given the initial investment of $1000,\\n')\n",
        "print(\"On the resampled efficient frontier, the minimum variance portfolio's return on out-of-sample data is $\", ret_minvar_res_2021*1000)\n",
        "print(\"On the resampled efficient frontier, the maximum return portfolio's return on out-of-sample data is $\", ret_maxret_res_2021*1000)\n",
        "print(\"On the resampled efficient frontier, the optimal sharpe ratio portfolio's return on Out-of-sample data is $\", ret_sharperatio_res_2021*1000)\n"
      ]
    },
    {
      "cell_type": "markdown",
      "id": "23f7e0b4",
      "metadata": {
        "id": "23f7e0b4"
      },
      "source": [
        "## Section3: Plot the classifical and resampled efficient frontiers "
      ]
    },
    {
      "cell_type": "code",
      "execution_count": null,
      "id": "1c924e01",
      "metadata": {
        "colab": {
          "base_uri": "https://localhost:8080/",
          "height": 700
        },
        "id": "1c924e01",
        "outputId": "065fea76-fc06-45e8-d794-c11da42a4b0a"
      },
      "outputs": [
        {
          "output_type": "display_data",
          "data": {
            "text/plain": [
              "<Figure size 1500x800 with 1 Axes>"
            ],
            "image/png": "[encoded data removed]"
          },
          "metadata": {}
        }
      ],
      "source": [
        "#Draw the classical efficient frontier and resampled efficient frontier \n",
        "fig=plt.figure(figsize=(15,8), dpi= 100, facecolor='w', edgecolor='k')\n",
        "ax2 = plt.gca()\n",
        "\n",
        "for i in range(100):\n",
        "     # Plot volatility versus expected return for individual stocks\n",
        "    ax2.scatter(x=np.sqrt(np.diag(covariance_resample_list[i])), y=mean_resample_list[i], color='darkgray', label='Individual Stocks' if i == 0 else \"\")\n",
        "    \n",
        "    # Plot volatility versus expected return for mimimum variance portfolio\n",
        "    ax2.scatter(x=np.sqrt(var_minvar_list[i]), y=ret_minvar_list[i], marker='D', s=30,  color='limegreen', label='Minimum Variance Portfolio' if i == 0 else \"\")\n",
        "\n",
        "    # Plot volatility versus expected return for maximum return portfolio\n",
        "    ax2.scatter(x=np.sqrt(var_maxret_list[i]), y=ret_maxret_list[i],  marker='D', s=30, color='darkviolet', label='Maximum Return Portfolio' if i == 0 else \"\")\n",
        "\n",
        "    # Plot efficient frontier\n",
        "    ax2.plot(np.sqrt(var_frontier_list[i]), ret_frontier_list[i], '--', color='peachpuff', label='Efficient Frontier' if i == 0 else \"\")\n",
        "\n",
        "#Plot the resampled efficient frontier\n",
        "ax2.plot(np.sqrt(var_frontier_resample), ret_frontier_resample, color='red', linewidth=3, label='Resampled Efficient Frontier')\n",
        "\n",
        "#Plot the classical mean-variance efficient frontier\n",
        "ax2.plot(np.sqrt(var_front), ret_front, color='blue', linewidth=3, label='Classical Efficient Frontier')\n",
        "\n",
        "plt.xlim([0,1])\n",
        "plt.ylim([-0.15,0.45])\n",
        "ax2.set_xlabel('Volatility (Standard Deviation)')\n",
        "ax2.set_ylabel('Expected Return')\n",
        "plt.title('Figure1: Efficient Frontier')\n",
        "ax2.legend(loc=\"lower right\")\n",
        "ax2.grid()\n",
        "plt.show()\n",
        "\n",
        "\n"
      ]
    },
    {
      "cell_type": "markdown",
      "id": "7e3a4d9f",
      "metadata": {
        "id": "7e3a4d9f"
      },
      "source": [
        "## Section4: Plot the portfolio compositions for classical frontiers and resampled frontiers"
      ]
    },
    {
      "cell_type": "code",
      "execution_count": null,
      "id": "a7c4d3ee",
      "metadata": {
        "colab": {
          "base_uri": "https://localhost:8080/",
          "height": 430
        },
        "id": "a7c4d3ee",
        "outputId": "1b99984c-1dd6-4c27-d0a8-15aad18ad531"
      },
      "outputs": [
        {
          "output_type": "display_data",
          "data": {
            "text/plain": [
              "<Figure size 720x432 with 1 Axes>"
            ],
            "image/png": "[encoded data removed]"
          },
          "metadata": {
            "needs_background": "light"
          }
        }
      ],
      "source": [
        "# Plot portfolio compositions for classical frontiers \n",
        "x_tick = np.arange(len(targetRet))+1\n",
        "color_list = ['fuchsia','green','pink','orange','purple','royalblue','grey','firebrick','olive','black','yellow','lime','indigo','red','blue','teal','skyblue','tan','cyan','navy']\n",
        "plt.figure(figsize=(10, 6))\n",
        "plt.stackplot(x_tick, np.array(w_front).T, colors=color_list)\n",
        "plt.legend(df1.columns[1:], bbox_to_anchor=(1.2, 1))\n",
        "plt.xlim((1,len(targetRet)))\n",
        "plt.ylim((0,1))\n",
        "plt.xticks(np.arange(1,len(targetRet)+1,5))\n",
        "plt.xlabel(\"Portfolio No. (with increasing target return)\")\n",
        "plt.ylabel(\"Portfolio Weights\")\n",
        "plt.title(\"Figure2: Portfolio Allocations: Classical Mean-Variance Optimization\")\n",
        "plt.show()"
      ]
    },
    {
      "cell_type": "code",
      "execution_count": null,
      "id": "f7b64001",
      "metadata": {
        "colab": {
          "base_uri": "https://localhost:8080/",
          "height": 430
        },
        "id": "f7b64001",
        "outputId": "06d1ce73-c441-40d2-bd9b-683ea284a49f"
      },
      "outputs": [
        {
          "output_type": "display_data",
          "data": {
            "text/plain": [
              "<Figure size 720x432 with 1 Axes>"
            ],
            "image/png": "[encoded data removed]"
          },
          "metadata": {
            "needs_background": "light"
          }
        }
      ],
      "source": [
        "# Plot the portfolio compositions for resampled frontiers\n",
        "# Plot portfolio compositions for classical frontiers \n",
        "x_tick = np.arange(len(targetRet))+1\n",
        "color_list = ['fuchsia','green','pink','orange','purple','royalblue','grey','firebrick','olive','black','yellow','lime','indigo','red','blue','teal','skyblue','tan','cyan','navy']\n",
        "plt.figure(figsize=(10, 6))\n",
        "plt.stackplot(x_tick,np.array(avg_w_frontier).T, colors=color_list)\n",
        "plt.legend(df1.columns[1:], bbox_to_anchor=(1.2, 1))\n",
        "plt.xlim((1,len(targetRet)))\n",
        "plt.ylim((0,1))\n",
        "plt.xticks(np.arange(1,len(targetRet)+1,5))\n",
        "plt.xlabel(\"Portfolio No. (with increasing target return)\")\n",
        "plt.ylabel(\"Portfolio Weights\")\n",
        "plt.title(\"Figure3: Portfolio Allocations: Resampled Optimization\")\n",
        "plt.show()"
      ]
    },
    {
      "cell_type": "code",
      "execution_count": null,
      "id": "e6a629ee",
      "metadata": {
        "id": "e6a629ee"
      },
      "outputs": [],
      "source": [
        ""
      ]
    },
    {
      "cell_type": "code",
      "execution_count": null,
      "id": "150e2bb4",
      "metadata": {
        "id": "150e2bb4"
      },
      "outputs": [],
      "source": [
        ""
      ]
    },
    {
      "cell_type": "code",
      "execution_count": null,
      "id": "8c35f2a6",
      "metadata": {
        "id": "8c35f2a6"
      },
      "outputs": [],
      "source": [
        ""
      ]
    },
    {
      "cell_type": "code",
      "execution_count": null,
      "id": "64c09e32",
      "metadata": {
        "id": "64c09e32"
      },
      "outputs": [],
      "source": [
        ""
      ]
    }
  ],
  "metadata": {
    "kernelspec": {
      "display_name": "Python 3 (ipykernel)",
      "language": "python",
      "name": "python3"
    },
    "language_info": {
      "codemirror_mode": {
        "name": "ipython",
        "version": 3
      },
      "file_extension": ".py",
      "mimetype": "text/x-python",
      "name": "python",
      "nbconvert_exporter": "python",
      "pygments_lexer": "ipython3",
      "version": "3.9.7"
    },
    "colab": {
      "name": "Financial Portfolio Optimization Project.ipynb",
      "provenance": []
    }
  },
  "nbformat": 4,
  "nbformat_minor": 5
}